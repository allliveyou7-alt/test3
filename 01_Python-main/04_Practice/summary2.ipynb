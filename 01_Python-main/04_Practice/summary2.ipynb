{
 "cells": [
  {
   "cell_type": "markdown",
   "id": "c4696721",
   "metadata": {},
   "source": [
    "### 조건문\n",
    "\n",
    "텍스트입니다.\n",
    "\n",
    "``` python\n",
    "\n",
    "if [조건식] :\n",
    "    [실행할 코드]\n",
    "elif [조건식]:\n",
    "    [첫번째 조건식이 False일 떄 실행될 코드]\n",
    "else:\n",
    "    [조건들에서 전부 False가 나왔을 때 실행될 코드]\n",
    "\n",
    "```"
   ]
  },
  {
   "cell_type": "code",
   "execution_count": 5,
   "id": "8e5e4c73",
   "metadata": {},
   "outputs": [
    {
     "name": "stdout",
     "output_type": "stream",
     "text": [
      "좀하네\n"
     ]
    }
   ],
   "source": [
    "score = 84\n",
    "\n",
    "if score >= 85:\n",
    "    print(\"잘하셨습니다.\")\n",
    "elif score > 80:\n",
    "    print(\"좀하네\")\n",
    "else:\n",
    "    print(\"못했네\")"
   ]
  },
  {
   "cell_type": "markdown",
   "id": "5ff028e3",
   "metadata": {},
   "source": [
    "match"
   ]
  },
  {
   "cell_type": "code",
   "execution_count": null,
   "id": "64b50282",
   "metadata": {},
   "outputs": [
    {
     "name": "stdout",
     "output_type": "stream",
     "text": [
      "다른날임\n"
     ]
    }
   ],
   "source": [
    "day = '목요일'\n",
    "\n",
    "match day:\n",
    "    case '월요일':\n",
    "        print('월요일임')\n",
    "    case '화요일':\n",
    "        print('화요일임')\n",
    "    case '수요일':\n",
    "        print('수요일임')\n",
    "    case _: # else 같이 모든조건에 포함되지 않을때 실행됨\n",
    "        print('다른날임')"
   ]
  },
  {
   "cell_type": "markdown",
   "id": "944967b5",
   "metadata": {},
   "source": [
    "### for 문\n",
    "\n",
    "```python\n",
    "for [변수] in [반복가능한객체]:\n",
    "    [반복시킬 문장]"
   ]
  },
  {
   "cell_type": "code",
   "execution_count": 11,
   "id": "c1040397",
   "metadata": {},
   "outputs": [
    {
     "name": "stdout",
     "output_type": "stream",
     "text": [
      "num은 1 입니다.\n",
      "num은 2 입니다.\n",
      "num은 3 입니다.\n",
      "num은 4 입니다.\n",
      "num은 5 입니다.\n",
      "num은 0 입니다.\n",
      "num은 1 입니다.\n",
      "num은 2 입니다.\n",
      "num은 3 입니다.\n",
      "num은 4 입니다.\n",
      "num은 5 입니다.\n",
      "num은 6 입니다.\n",
      "num은 7 입니다.\n",
      "num은 8 입니다.\n",
      "num은 9 입니다.\n"
     ]
    }
   ],
   "source": [
    "list = [1,2,3,4,5]\n",
    "\n",
    "for num in list:\n",
    "    print(f'num은 {num} 입니다.')\n",
    "\n",
    "for num in range(10):\n",
    "    print(f'num은 {num} 입니다.')"
   ]
  },
  {
   "cell_type": "markdown",
   "id": "eb053fed",
   "metadata": {},
   "source": [
    "### While\n",
    "\n",
    "```python\n",
    "\n",
    "while [조건식]:\n",
    "    [반복할 코드]"
   ]
  },
  {
   "cell_type": "code",
   "execution_count": 1,
   "id": "2d26a1f4",
   "metadata": {},
   "outputs": [
    {
     "name": "stdout",
     "output_type": "stream",
     "text": [
      "카운트 : 0\n",
      "카운트 : 1\n",
      "카운트 : 2\n"
     ]
    }
   ],
   "source": [
    "count = 0\n",
    "\n",
    "while count < 3:\n",
    "    print(f'카운트 : {count}')\n",
    "\n",
    "    count += 1\n"
   ]
  },
  {
   "cell_type": "code",
   "execution_count": 2,
   "id": "468f33dc",
   "metadata": {},
   "outputs": [
    {
     "name": "stdout",
     "output_type": "stream",
     "text": [
      "입력하신 숫자는 4입니다.\n",
      "입력하신 숫자는 1입니다.\n",
      "입력하신 숫자는 2입니다.\n",
      "입력하신 숫자는 5입니다.\n"
     ]
    }
   ],
   "source": [
    "count = 0\n",
    "\n",
    "# 기본적으로 무한반복\n",
    "while True :\n",
    "    num = input('숫자를입력하세요')\n",
    "\n",
    "    if num == '3':\n",
    "        continue # 현재 반복만 멈춤\n",
    "\n",
    "    print(f'입력하신 숫자는 {num}입니다.')\n",
    "    if num == '5':\n",
    "        break # 분기문 완전 종료"
   ]
  }
 ],
 "metadata": {
  "kernelspec": {
   "display_name": "helloworld",
   "language": "python",
   "name": "python3"
  },
  "language_info": {
   "codemirror_mode": {
    "name": "ipython",
    "version": 3
   },
   "file_extension": ".py",
   "mimetype": "text/x-python",
   "name": "python",
   "nbconvert_exporter": "python",
   "pygments_lexer": "ipython3",
   "version": "3.11.14"
  }
 },
 "nbformat": 4,
 "nbformat_minor": 5
}
