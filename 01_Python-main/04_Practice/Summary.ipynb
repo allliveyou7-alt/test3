{
 "cells": [
  {
   "cell_type": "markdown",
   "id": "de4dc7d9",
   "metadata": {},
   "source": [
    "## 자료구조\n",
    "\n",
    "### 리스트\n",
    "특징\n",
    "- 순서가 있는 데이터 구조\n",
    "\n",
    "\n",
    "my_list=[1,2,3,4,'hi'] # 다른 자료형을 넣어도 무관\n",
    "\n",
    "print(my_list)"
   ]
  },
  {
   "cell_type": "code",
   "execution_count": 1,
   "id": "bc1c516c",
   "metadata": {},
   "outputs": [
    {
     "name": "stdout",
     "output_type": "stream",
     "text": [
      "[1, 2, 3, 4, 2]\n"
     ]
    }
   ],
   "source": [
    "my_list=[1,2,3,4,2] # 다른 자료형을 넣어도 무관\n",
    "\n",
    "print(my_list)"
   ]
  },
  {
   "cell_type": "code",
   "execution_count": 5,
   "id": "d6ebbd7d",
   "metadata": {},
   "outputs": [
    {
     "data": {
      "text/plain": [
       "2"
      ]
     },
     "execution_count": 5,
     "metadata": {},
     "output_type": "execute_result"
    }
   ],
   "source": [
    "my_list=[1,2,3,4,2]\n",
    "my_list[1]"
   ]
  },
  {
   "cell_type": "code",
   "execution_count": 6,
   "id": "653e1736",
   "metadata": {},
   "outputs": [
    {
     "name": "stdout",
     "output_type": "stream",
     "text": [
      "[1, 2, 3, 4, 2, 4]\n"
     ]
    }
   ],
   "source": [
    "my_list=[1,2,3,4,2]\n",
    "my_list.append(4)\n",
    "print(my_list)"
   ]
  },
  {
   "cell_type": "markdown",
   "id": "5ba862dd",
   "metadata": {},
   "source": [
    "### 튜플\n",
    "- 순서가 있는 데이터구조 -> 인덱스가 있다"
   ]
  },
  {
   "cell_type": "code",
   "execution_count": 8,
   "id": "cba9017f",
   "metadata": {},
   "outputs": [
    {
     "name": "stdout",
     "output_type": "stream",
     "text": [
      "(1, 2, 3, 4, 4)\n"
     ]
    }
   ],
   "source": [
    "tuple = (1,2,3,4,4)\n",
    "print(tuple)"
   ]
  },
  {
   "cell_type": "code",
   "execution_count": 10,
   "id": "f90c5f45",
   "metadata": {},
   "outputs": [
    {
     "data": {
      "text/plain": [
       "4"
      ]
     },
     "execution_count": 10,
     "metadata": {},
     "output_type": "execute_result"
    }
   ],
   "source": [
    "tuple = (1,2,3,4,4)\n",
    "tuple[3]"
   ]
  },
  {
   "cell_type": "markdown",
   "id": "61ac06de",
   "metadata": {},
   "source": [
    "튜플은 값 생성한 뒤에 수정 안됨"
   ]
  },
  {
   "cell_type": "code",
   "execution_count": 12,
   "id": "7a2dc777",
   "metadata": {},
   "outputs": [],
   "source": [
    "tuple = (1,2,3,4,4)\n",
    "# tuple[3] = '1'"
   ]
  },
  {
   "cell_type": "markdown",
   "id": "7349adea",
   "metadata": {},
   "source": [
    "### 딕셔너리\n",
    "\n",
    "- key - value 쌍"
   ]
  },
  {
   "cell_type": "code",
   "execution_count": 14,
   "id": "7d4a509c",
   "metadata": {},
   "outputs": [],
   "source": [
    "dict = {\n",
    "    'name' : 'jw',\n",
    "    'age' : 30,\n",
    "    'city' : 'seoul'\n",
    "}"
   ]
  },
  {
   "cell_type": "code",
   "execution_count": 18,
   "id": "d327499f",
   "metadata": {},
   "outputs": [
    {
     "name": "stdout",
     "output_type": "stream",
     "text": [
      "jw\n",
      "서울\n",
      "{'name': 'jw', 'age': 30, 'city': '서울', 'job': 'worker'}\n"
     ]
    }
   ],
   "source": [
    "print(dict['name'])\n",
    "dict['city'] = '서울' # key는 중복이 안됨\n",
    "print(dict['city'])\n",
    "\n",
    "dict['job'] = 'worker'\n",
    "\n",
    "print(dict)"
   ]
  },
  {
   "cell_type": "code",
   "execution_count": 22,
   "id": "63a51216",
   "metadata": {},
   "outputs": [],
   "source": [
    "dict2 = {\n",
    "    'name' : 'jw2',\n",
    "    'age' : 302,\n",
    "    'city' : 'seoul2'\n",
    "}\n",
    "\n",
    "dict3 = {\n",
    "    'name' : 'jw3',\n",
    "    'age' : 303,\n",
    "    'city' : {\n",
    "        'home' : '시흥',\n",
    "        'job' : '창원'\n",
    "    }\n",
    "}"
   ]
  },
  {
   "cell_type": "code",
   "execution_count": 23,
   "id": "de84ba2d",
   "metadata": {},
   "outputs": [
    {
     "name": "stdout",
     "output_type": "stream",
     "text": [
      "[{'name': 'jw', 'age': 30, 'city': '서울', 'job': 'worker'}, {'name': 'jw2', 'age': 302, 'city': 'seoul2'}, {'name': 'jw3', 'age': 303, 'city': {'home': '시흥', 'job': '창원'}}]\n"
     ]
    }
   ],
   "source": [
    "dict_list = [dict, dict2, dict3]\n",
    "\n",
    "print(dict_list)"
   ]
  },
  {
   "cell_type": "markdown",
   "id": "66efe5f9",
   "metadata": {},
   "source": [
    "### Set\n",
    "- 중복제거\n",
    "- 순서없음"
   ]
  },
  {
   "cell_type": "code",
   "execution_count": 25,
   "id": "b9ce4cbd",
   "metadata": {},
   "outputs": [
    {
     "name": "stdout",
     "output_type": "stream",
     "text": [
      "{1, 2, 3, 4, 5}\n"
     ]
    }
   ],
   "source": [
    "set = {1,2,3,4,5,1}\n",
    "\n",
    "print(set)"
   ]
  },
  {
   "cell_type": "code",
   "execution_count": null,
   "id": "26598c93",
   "metadata": {},
   "outputs": [],
   "source": []
  }
 ],
 "metadata": {
  "kernelspec": {
   "display_name": "helloworld",
   "language": "python",
   "name": "python3"
  },
  "language_info": {
   "codemirror_mode": {
    "name": "ipython",
    "version": 3
   },
   "file_extension": ".py",
   "mimetype": "text/x-python",
   "name": "python",
   "nbconvert_exporter": "python",
   "pygments_lexer": "ipython3",
   "version": "3.11.14"
  }
 },
 "nbformat": 4,
 "nbformat_minor": 5
}
