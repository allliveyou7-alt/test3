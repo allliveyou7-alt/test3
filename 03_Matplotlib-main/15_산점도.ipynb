{
    "cells": [
        {
            "cell_type": "markdown",
            "metadata": {},
            "source": [
                "# 15. 산점도 (Scatter Plot)\n",
                "---\n",
                "### 산점도의 특징\n",
                "- 산점도는 두 변수 간의 관계를 시각화하는 데 효과적이다.\n",
                "- 데이터의 분포와 상관관계를 한눈에 파악할 수 있다.\n"
            ]
        },
        {
            "cell_type": "code",
            "execution_count": 1,
            "metadata": {},
            "outputs": [],
            "source": [
                "import pandas as pd\n",
                "import numpy as np\n",
                "import matplotlib.pyplot as plt\n",
                "import matplotlib\n",
                "\n",
                "matplotlib.rcParams['font.family'] = 'Malgun Gothic' # 한글 폰트 설정\n",
                "# matplotlib.rcParams['font.family'] = 'AppleGothic' # Mac 사용자\n",
                "matplotlib.rcParams['font.size'] = 15 # 폰트 크기 설정\n",
                "matplotlib.rcParams['axes.unicode_minus'] = False # 마이너스 기호 깨짐 방지\n"
            ]
        },
        {
            "cell_type": "markdown",
            "metadata": {},
            "source": [
                "## 데이터 준비\n",
                "### 고객 데이터 불러오기\n",
                "- customers3.csv 파일에 학년 정보를 추가한다.\n"
            ]
        },
        {
            "cell_type": "code",
            "execution_count": 2,
            "metadata": {},
            "outputs": [
                {
                    "data": {
                        "text/html": [
                            "<div>\n",
                            "<style scoped>\n",
                            "    .dataframe tbody tr th:only-of-type {\n",
                            "        vertical-align: middle;\n",
                            "    }\n",
                            "\n",
                            "    .dataframe tbody tr th {\n",
                            "        vertical-align: top;\n",
                            "    }\n",
                            "\n",
                            "    .dataframe thead th {\n",
                            "        text-align: right;\n",
                            "    }\n",
                            "</style>\n",
                            "<table border=\"1\" class=\"dataframe\">\n",
                            "  <thead>\n",
                            "    <tr style=\"text-align: right;\">\n",
                            "      <th></th>\n",
                            "      <th>고객ID</th>\n",
                            "      <th>고객명</th>\n",
                            "      <th>나이</th>\n",
                            "      <th>거주도시</th>\n",
                            "      <th>주요관심사</th>\n",
                            "      <th>최근1년_방문빈도</th>\n",
                            "      <th>평균구매액(만원)</th>\n",
                            "      <th>고객만족도(점)</th>\n",
                            "      <th>재구매의사(점)</th>\n",
                            "    </tr>\n",
                            "  </thead>\n",
                            "  <tbody>\n",
                            "    <tr>\n",
                            "      <th>0</th>\n",
                            "      <td>C001</td>\n",
                            "      <td>박태근</td>\n",
                            "      <td>35</td>\n",
                            "      <td>시흥</td>\n",
                            "      <td>Electronics</td>\n",
                            "      <td>75</td>\n",
                            "      <td>70</td>\n",
                            "      <td>78</td>\n",
                            "      <td>92</td>\n",
                            "    </tr>\n",
                            "    <tr>\n",
                            "      <th>1</th>\n",
                            "      <td>C002</td>\n",
                            "      <td>이영희</td>\n",
                            "      <td>30</td>\n",
                            "      <td>안양</td>\n",
                            "      <td>fashion</td>\n",
                            "      <td>85</td>\n",
                            "      <td>92</td>\n",
                            "      <td>88</td>\n",
                            "      <td>85</td>\n",
                            "    </tr>\n",
                            "    <tr>\n",
                            "      <th>2</th>\n",
                            "      <td>C003</td>\n",
                            "      <td>박지성</td>\n",
                            "      <td>35</td>\n",
                            "      <td>울산</td>\n",
                            "      <td>NaN</td>\n",
                            "      <td>95</td>\n",
                            "      <td>110</td>\n",
                            "      <td>91</td>\n",
                            "      <td>88</td>\n",
                            "    </tr>\n",
                            "    <tr>\n",
                            "      <th>3</th>\n",
                            "      <td>C004</td>\n",
                            "      <td>최민아</td>\n",
                            "      <td>40</td>\n",
                            "      <td>창원</td>\n",
                            "      <td>Fashion</td>\n",
                            "      <td>92</td>\n",
                            "      <td>105</td>\n",
                            "      <td>82</td>\n",
                            "      <td>96</td>\n",
                            "    </tr>\n",
                            "    <tr>\n",
                            "      <th>4</th>\n",
                            "      <td>C005</td>\n",
                            "      <td>정수빈</td>\n",
                            "      <td>28</td>\n",
                            "      <td>구로</td>\n",
                            "      <td>Fashion</td>\n",
                            "      <td>82</td>\n",
                            "      <td>88</td>\n",
                            "      <td>94</td>\n",
                            "      <td>79</td>\n",
                            "    </tr>\n",
                            "  </tbody>\n",
                            "</table>\n",
                            "</div>"
                        ],
                        "text/plain": [
                            "   고객ID  고객명  나이 거주도시        주요관심사  최근1년_방문빈도  평균구매액(만원)  고객만족도(점)  재구매의사(점)\n",
                            "0  C001  박태근  35   시흥  Electronics         75         70        78        92\n",
                            "1  C002  이영희  30   안양      fashion         85         92        88        85\n",
                            "2  C003  박지성  35   울산          NaN         95        110        91        88\n",
                            "3  C004  최민아  40   창원      Fashion         92        105        82        96\n",
                            "4  C005  정수빈  28   구로      Fashion         82         88        94        79"
                        ]
                    },
                    "execution_count": 2,
                    "metadata": {},
                    "output_type": "execute_result"
                }
            ],
            "source": [
                "# 고객 데이터 불러오기\n",
                "df = pd.read_csv('../02_Pandas/data/customers3.csv', encoding='utf-8')\n",
                "df.head()\n"
            ]
        },
        {
            "cell_type": "code",
            "execution_count": 3,
            "metadata": {},
            "outputs": [
                {
                    "data": {
                        "image/png": "[encoded data removed]",
                        "text/plain": [
                            "<Figure size 640x480 with 1 Axes>"
                        ]
                    },
                    "metadata": {},
                    "output_type": "display_data"
                }
            ],
            "source": [
                "sizes = df['나이']\n",
                "\n",
                "plt.scatter(df['평균구매액(만원)'], df['고객만족도(점)'], s=sizes,\n",
                "            cmap='viridis', c=df['재구매의사(점)'])\n",
                "\n",
                "plt.xlabel('평균구매액(만원)')\n",
                "plt.ylabel('고객만족도(점)')\n",
                "\n",
                "plt.show()\n",
                "\n"
            ]
        },
        {
            "cell_type": "markdown",
            "metadata": {},
            "source": [
                "## 기본 산점도\n",
                "### scatter() 함수\n",
                "- **scatter()** 함수를 사용하여 산점도를 그린다.\n",
                "- X축과 Y축에 각각의 변수를 지정한다.\n"
            ]
        },
        {
            "cell_type": "code",
            "execution_count": null,
            "metadata": {},
            "outputs": [],
            "source": []
        },
        {
            "cell_type": "markdown",
            "metadata": {},
            "source": [
                "## 점 크기 조정하기\n",
                "### s 파라미터\n",
                "- **s** 파라미터로 점의 크기를 조정할 수 있다.\n",
                "- 다른 변수의 값에 따라 점의 크기를 다르게 할 수 있다.\n"
            ]
        },
        {
            "cell_type": "code",
            "execution_count": null,
            "metadata": {},
            "outputs": [],
            "source": []
        },
        {
            "cell_type": "markdown",
            "metadata": {},
            "source": [
                "## 점 색상 조정하기\n",
                "### c와 cmap 파라미터\n",
                "- **c**: 점의 색상을 지정한다.\n",
                "- **cmap**: 컬러맵을 지정한다.\n",
                "    - viridis : 파란색-녹색-노란색 으로이루어진 색상 맵맵=\n",
                "    - 변수 값에 따라 색상이 자동으로 매핑된다.\n"
            ]
        },
        {
            "cell_type": "code",
            "execution_count": null,
            "metadata": {},
            "outputs": [],
            "source": []
        },
        {
            "cell_type": "markdown",
            "metadata": {},
            "source": [
                "## 컬러바 추가하기\n",
                "### colorbar() 함수\n",
                "- **colorbar()**로 색상과 값의 관계를 보여주는 컬러바를 추가한다.\n",
                "- **label**: 컬러바 레이블\n",
                "- **shrink**: 컬러바 크기 조정\n",
                "- **orientation**: 컬러바 방향 ('vertical', 'horizontal')\n"
            ]
        },
        {
            "cell_type": "code",
            "execution_count": 9,
            "metadata": {},
            "outputs": [
                {
                    "data": {
                        "image/png": "[encoded data removed]",
                        "text/plain": [
                            "<Figure size 640x480 with 2 Axes>"
                        ]
                    },
                    "metadata": {},
                    "output_type": "display_data"
                }
            ],
            "source": [
                "sizes = df['나이']\n",
                "\n",
                "plt.scatter(df['평균구매액(만원)'], df['고객만족도(점)'], s=sizes,\n",
                "            cmap='viridis', c=df['고객만족도(점)'])\n",
                "\n",
                "plt.colorbar(label='고객만족도(점)', shrink=0.5)\n",
                "\n",
                "plt.xlabel('평균구매액(만원)')\n",
                "plt.ylabel('고객만족도(점)')\n",
                "plt.show()\n",
                "\n"
            ]
        }
    ],
    "metadata": {
        "kernelspec": {
            "display_name": "helloworld",
            "language": "python",
            "name": "python3"
        },
        "language_info": {
            "codemirror_mode": {
                "name": "ipython",
                "version": 3
            },
            "file_extension": ".py",
            "mimetype": "text/x-python",
            "name": "python",
            "nbconvert_exporter": "python",
            "pygments_lexer": "ipython3",
            "version": "3.11.14"
        }
    },
    "nbformat": 4,
    "nbformat_minor": 2
}
