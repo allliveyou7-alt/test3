{
 "cells": [
  {
   "cell_type": "markdown",
   "metadata": {},
   "source": [
    "##### [실습] titanic 승객 데이터 활용"
   ]
  },
  {
   "cell_type": "markdown",
   "metadata": {},
   "source": [
    "**컬럼 설명** \n",
    "- PassengerId - 승객 고유번호\n",
    "- Survived - 생존유무(target 값) (0 = 사망, 1 = 생존)\n",
    "- Pclass - 티켓 클래스 (1 = 1st, 2 = 2nd, 3 = 3rd)\n",
    "- Name - 탑승객 성명\n",
    "- Sex - 성별 (male: 남성, female: 여성)\n",
    "- Age - 나이(세)\n",
    "- SibSp - 함께 탑승한 형제자매, 배우자 수 총합\n",
    "- Parch - 함께 탑승한 부모, 자녀 수 총합\n",
    "- Ticket - 티켓 넘버\n",
    "- Fare - 탑승 요금\n",
    "- Cabin - 객실 넘버\n",
    "- Embarked - 탑승 항구 (C: Cherbourg, Q: Queenstown, S: Southampton)"
   ]
  },
  {
   "cell_type": "code",
   "execution_count": 1,
   "metadata": {},
   "outputs": [
    {
     "name": "stdout",
     "output_type": "stream",
     "text": [
      "   PassengerId  Survived  Pclass  \\\n",
      "0            1         0       3   \n",
      "1            2         1       1   \n",
      "2            3         1       3   \n",
      "3            4         1       1   \n",
      "4            5         0       3   \n",
      "\n",
      "                                                Name     Sex   Age  SibSp  \\\n",
      "0                            Braund, Mr. Owen Harris    male  22.0      1   \n",
      "1  Cumings, Mrs. John Bradley (Florence Briggs Th...  female  38.0      1   \n",
      "2                             Heikkinen, Miss. Laina  female  26.0      0   \n",
      "3       Futrelle, Mrs. Jacques Heath (Lily May Peel)  female  35.0      1   \n",
      "4                           Allen, Mr. William Henry    male  35.0      0   \n",
      "\n",
      "   Parch            Ticket     Fare Cabin Embarked  \n",
      "0      0         A/5 21171   7.2500   NaN        S  \n",
      "1      0          PC 17599  71.2833   C85        C  \n",
      "2      0  STON/O2. 3101282   7.9250   NaN        S  \n",
      "3      0            113803  53.1000  C123        S  \n",
      "4      0            373450   8.0500   NaN        S  \n",
      "\n",
      "[Info]\n",
      "<class 'pandas.core.frame.DataFrame'>\n",
      "RangeIndex: 891 entries, 0 to 890\n",
      "Data columns (total 12 columns):\n",
      " #   Column       Non-Null Count  Dtype  \n",
      "---  ------       --------------  -----  \n",
      " 0   PassengerId  891 non-null    int64  \n",
      " 1   Survived     891 non-null    int64  \n",
      " 2   Pclass       891 non-null    int64  \n",
      " 3   Name         891 non-null    object \n",
      " 4   Sex          891 non-null    object \n",
      " 5   Age          714 non-null    float64\n",
      " 6   SibSp        891 non-null    int64  \n",
      " 7   Parch        891 non-null    int64  \n",
      " 8   Ticket       891 non-null    object \n",
      " 9   Fare         891 non-null    float64\n",
      " 10  Cabin        204 non-null    object \n",
      " 11  Embarked     889 non-null    object \n",
      "dtypes: float64(2), int64(5), object(5)\n",
      "memory usage: 83.7+ KB\n",
      "None\n",
      "\n",
      "[Describe]\n",
      "        PassengerId    Survived      Pclass                     Name   Sex  \\\n",
      "count    891.000000  891.000000  891.000000                      891   891   \n",
      "unique          NaN         NaN         NaN                      891     2   \n",
      "top             NaN         NaN         NaN  Braund, Mr. Owen Harris  male   \n",
      "freq            NaN         NaN         NaN                        1   577   \n",
      "mean     446.000000    0.383838    2.308642                      NaN   NaN   \n",
      "std      257.353842    0.486592    0.836071                      NaN   NaN   \n",
      "min        1.000000    0.000000    1.000000                      NaN   NaN   \n",
      "25%      223.500000    0.000000    2.000000                      NaN   NaN   \n",
      "50%      446.000000    0.000000    3.000000                      NaN   NaN   \n",
      "75%      668.500000    1.000000    3.000000                      NaN   NaN   \n",
      "max      891.000000    1.000000    3.000000                      NaN   NaN   \n",
      "\n",
      "               Age       SibSp       Parch  Ticket        Fare Cabin Embarked  \n",
      "count   714.000000  891.000000  891.000000     891  891.000000   204      889  \n",
      "unique         NaN         NaN         NaN     681         NaN   147        3  \n",
      "top            NaN         NaN         NaN  347082         NaN    G6        S  \n",
      "freq           NaN         NaN         NaN       7         NaN     4      644  \n",
      "mean     29.699118    0.523008    0.381594     NaN   32.204208   NaN      NaN  \n",
      "std      14.526497    1.102743    0.806057     NaN   49.693429   NaN      NaN  \n",
      "min       0.420000    0.000000    0.000000     NaN    0.000000   NaN      NaN  \n",
      "25%      20.125000    0.000000    0.000000     NaN    7.910400   NaN      NaN  \n",
      "50%      28.000000    0.000000    0.000000     NaN   14.454200   NaN      NaN  \n",
      "75%      38.000000    1.000000    0.000000     NaN   31.000000   NaN      NaN  \n",
      "max      80.000000    8.000000    6.000000     NaN  512.329200   NaN      NaN  \n"
     ]
    }
   ],
   "source": [
    "# titanic.csv 파일 로드\n",
    "# titanic 데이터셋의 메타 데이터 확인\n",
    "\n",
    "import pandas as pd\n",
    "\n",
    "# titanic.csv 파일 로드\n",
    "file_path = r'C:\\Users\\75050\\Desktop\\WIA\\lecture Source\\03_Matplotlib-main\\eda_practice\\data\\titanic.csv'\n",
    "titanic = pd.read_csv(file_path)\n",
    "\n",
    "# 1. 데이터 일부 미리보기\n",
    "print(titanic.head())\n",
    "\n",
    "# 2. 전체 컬럼, 타입, 결측값 등 메타데이터 확인\n",
    "print(\"\\n[Info]\")\n",
    "print(titanic.info())\n",
    "\n",
    "print(\"\\n[Describe]\")\n",
    "print(titanic.describe(include='all'))"
   ]
  },
  {
   "cell_type": "markdown",
   "metadata": {},
   "source": [
    "- 기초문제"
   ]
  },
  {
   "cell_type": "code",
   "execution_count": 2,
   "metadata": {},
   "outputs": [
    {
     "name": "stdout",
     "output_type": "stream",
     "text": [
      "\n",
      "1. 생존자와 사망자 수\n",
      "Survived\n",
      "0    549\n",
      "1    342\n",
      "Name: count, dtype: int64\n"
     ]
    }
   ],
   "source": [
    "# 1. 전체 승객 중 생존자의 수와 사망자의 수를 구하여 출력\n",
    "\n",
    "print(\"\\n1. 생존자와 사망자 수\")\n",
    "print(titanic['Survived'].value_counts())"
   ]
  },
  {
   "cell_type": "code",
   "execution_count": 3,
   "metadata": {},
   "outputs": [
    {
     "name": "stdout",
     "output_type": "stream",
     "text": [
      "\n",
      "2. 승객 평균 나이\n",
      "29.69911764705882\n"
     ]
    }
   ],
   "source": [
    "# 2. 승객 나이의 평균 출력\n",
    "\n",
    "print(\"\\n2. 승객 평균 나이\")\n",
    "print(titanic['Age'].mean())"
   ]
  },
  {
   "cell_type": "code",
   "execution_count": 4,
   "metadata": {},
   "outputs": [
    {
     "name": "stdout",
     "output_type": "stream",
     "text": [
      "\n",
      "3. 1등급 중 최고 운임 승객 이름\n",
      "최고 운임 승객: Ward, Miss. Anna\n"
     ]
    }
   ],
   "source": [
    "# 3. 1등급 승객 중 운임이 가장 높은 승객의 이름 출력\n",
    "\n",
    "print(\"\\n3. 1등급 중 최고 운임 승객 이름\")\n",
    "pclass1 = titanic[titanic['Pclass'] == 1]\n",
    "max_fare_row = pclass1.loc[pclass1['Fare'].idxmax()]\n",
    "print('최고 운임 승객:', max_fare_row['Name'])"
   ]
  },
  {
   "cell_type": "code",
   "execution_count": 5,
   "metadata": {},
   "outputs": [
    {
     "name": "stdout",
     "output_type": "stream",
     "text": [
      "\n",
      "4. 여성 승객 수\n",
      "314\n"
     ]
    }
   ],
   "source": [
    "# 4. 여성 승객의 수를 구하여 출력\n",
    "\n",
    "print(\"\\n4. 여성 승객 수\")\n",
    "print((titanic['Sex'] == 'female').sum())"
   ]
  },
  {
   "cell_type": "code",
   "execution_count": 6,
   "metadata": {},
   "outputs": [
    {
     "name": "stdout",
     "output_type": "stream",
     "text": [
      "\n",
      "5. 운임 50 이상 승객 이름과 운임\n",
      "                                                  Name      Fare\n",
      "1    Cumings, Mrs. John Bradley (Florence Briggs Th...   71.2833\n",
      "3         Futrelle, Mrs. Jacques Heath (Lily May Peel)   53.1000\n",
      "6                              McCarthy, Mr. Timothy J   51.8625\n",
      "27                      Fortune, Mr. Charles Alexander  263.0000\n",
      "31      Spencer, Mrs. William Augustus (Marie Eugenie)  146.5208\n",
      "..                                                 ...       ...\n",
      "856         Wick, Mrs. George Dennick (Mary Hitchcock)  164.8667\n",
      "863                  Sage, Miss. Dorothy Edith \"Dolly\"   69.5500\n",
      "867               Roebling, Mr. Washington Augustus II   50.4958\n",
      "871   Beckwith, Mrs. Richard Leonard (Sallie Monypeny)   52.5542\n",
      "879      Potter, Mrs. Thomas Jr (Lily Alexenia Wilson)   83.1583\n",
      "\n",
      "[161 rows x 2 columns]\n"
     ]
    }
   ],
   "source": [
    "# 5. 운임이 50 이상인 승객의 이름과 운임 출력\n",
    "\n",
    "print(\"\\n5. 운임 50 이상 승객 이름과 운임\")\n",
    "high_fare = titanic[titanic['Fare'] >= 50][['Name', 'Fare']]\n",
    "print(high_fare)"
   ]
  },
  {
   "cell_type": "code",
   "execution_count": 7,
   "metadata": {},
   "outputs": [
    {
     "name": "stdout",
     "output_type": "stream",
     "text": [
      "\n",
      "6. 18세 미만 승객 생존율\n",
      "생존율: 53.98%\n"
     ]
    }
   ],
   "source": [
    "# 6. 나이가 18세 미만인 승객들의 생존율을 계산하여 출력\n",
    "\n",
    "print(\"\\n6. 18세 미만 승객 생존율\")\n",
    "young = titanic[titanic['Age'] < 18]\n",
    "survival_rate = young['Survived'].mean()\n",
    "print('생존율: {:.2%}'.format(survival_rate))"
   ]
  },
  {
   "cell_type": "code",
   "execution_count": 8,
   "metadata": {},
   "outputs": [
    {
     "name": "stdout",
     "output_type": "stream",
     "text": [
      "\n",
      "7. 2등급 객실 평균 운임\n",
      "평균 운임: 20.662183152173913\n"
     ]
    }
   ],
   "source": [
    "# 7. 2등급 객실에 탑승한 승객의 평균 운임을 계산하여 출력\n",
    "\n",
    "print(\"\\n7. 2등급 객실 평균 운임\")\n",
    "pclass2 = titanic[titanic['Pclass'] == 2]\n",
    "mean_fare_pclass2 = pclass2['Fare'].mean()\n",
    "print('평균 운임:', mean_fare_pclass2)"
   ]
  },
  {
   "cell_type": "code",
   "execution_count": 9,
   "metadata": {},
   "outputs": [
    {
     "name": "stdout",
     "output_type": "stream",
     "text": [
      "\n",
      "8. 최고령 승객의 나이와 이름\n",
      "최고령 승객 나이: 80.0 / 이름: Barkworth, Mr. Algernon Henry Wilson\n"
     ]
    }
   ],
   "source": [
    "# 8. 승객 중 나이가 가장 많은 사람의 나이와 이름을 출력\n",
    "\n",
    "print(\"\\n8. 최고령 승객의 나이와 이름\")\n",
    "oldest = titanic.loc[titanic['Age'].idxmax()]\n",
    "print('최고령 승객 나이:', oldest['Age'], '/ 이름:', oldest['Name'])"
   ]
  },
  {
   "cell_type": "code",
   "execution_count": 10,
   "metadata": {},
   "outputs": [
    {
     "name": "stdout",
     "output_type": "stream",
     "text": [
      "\n",
      "9. S 항구 탑승자 수\n",
      "644\n"
     ]
    }
   ],
   "source": [
    "# 9. S 항구에서 탑승한 승객의 수를 출력\n",
    "\n",
    "print(\"\\n9. S 항구 탑승자 수\")\n",
    "print((titanic['Embarked'] == 'S').sum())"
   ]
  },
  {
   "cell_type": "code",
   "execution_count": 11,
   "metadata": {},
   "outputs": [
    {
     "name": "stdout",
     "output_type": "stream",
     "text": [
      "\n",
      "10. 3등급 남성 중 생존자 수\n",
      "47\n"
     ]
    }
   ],
   "source": [
    "# 10. 3등급 객실에 탑승한 남성 승객 중 생존자의 수를 출력\n",
    "\n",
    "print(\"\\n10. 3등급 남성 중 생존자 수\")\n",
    "cond = (titanic['Pclass'] == 3) & (titanic['Sex'] == 'male') & (titanic['Survived'] == 1)\n",
    "print(cond.sum())"
   ]
  },
  {
   "cell_type": "markdown",
   "metadata": {},
   "source": [
    "- 고급문제"
   ]
  },
  {
   "cell_type": "code",
   "execution_count": 12,
   "metadata": {},
   "outputs": [
    {
     "name": "stdout",
     "output_type": "stream",
     "text": [
      "\n",
      "1. 생존여부별 Pclass별 평균 나이\n",
      "Survived  Pclass\n",
      "0         1         43.695312\n",
      "          2         33.544444\n",
      "          3         26.555556\n",
      "1         1         35.368197\n",
      "          2         25.901566\n",
      "          3         20.646118\n",
      "Name: Age, dtype: float64\n"
     ]
    }
   ],
   "source": [
    "# 1. 생존자(Survived)와 그렇지 않은 사람들의 `Pclass`(객실 등급)별 평균 나이를 각각 출력\n",
    "\n",
    "print('\\n1. 생존여부별 Pclass별 평균 나이')\n",
    "print(titanic.groupby(['Survived', 'Pclass'])['Age'].mean())"
   ]
  },
  {
   "cell_type": "code",
   "execution_count": 13,
   "metadata": {},
   "outputs": [
    {
     "name": "stdout",
     "output_type": "stream",
     "text": [
      "                               Name   Age\n",
      "27   Fortune, Mr. Charles Alexander  19.0\n",
      "88       Fortune, Miss. Mabel Helen  23.0\n",
      "341  Fortune, Miss. Alice Elizabeth  24.0\n",
      "159      Sage, Master. Thomas Henry   NaN\n",
      "180    Sage, Miss. Constance Gladys   NaN\n"
     ]
    }
   ],
   "source": [
    "# 2. `SibSp`(형제/배우자 수)가 3 이상인 승객들 중에서, `Fare`(운임) 상위 5명의 이름과 나이를 출력\n",
    "\n",
    "sibsp3 = titanic[titanic['SibSp'] >= 3].sort_values('Fare', ascending=False).head(5)\n",
    "print(sibsp3[['Name', 'Age']])"
   ]
  },
  {
   "cell_type": "code",
   "execution_count": 14,
   "metadata": {},
   "outputs": [
    {
     "name": "stdout",
     "output_type": "stream",
     "text": [
      "Embarked\n",
      "S    90\n",
      "Q    49\n",
      "C    38\n",
      "Name: count, dtype: int64\n"
     ]
    }
   ],
   "source": [
    "# 3. 승객 중에서 `Age` 값이 결측치(NaN)인 사람들의 `Embarked`(탑승 항구)별 분포를 출력\n",
    "\n",
    "print(titanic[titanic['Age'].isna()]['Embarked'].value_counts())"
   ]
  },
  {
   "cell_type": "code",
   "execution_count": 15,
   "metadata": {},
   "outputs": [
    {
     "name": "stdout",
     "output_type": "stream",
     "text": [
      "                                     Name     Sex  Survived\n",
      "14   Vestrom, Miss. Hulda Amanda Adolfina  female         0\n",
      "22            McGowan, Miss. Anna \"Annie\"  female         1\n",
      "731              Hassan, Mr. Houssein G N    male         0\n",
      "777         Emanuel, Miss. Virginia Ethel  female         1\n",
      "780                  Ayoub, Miss. Banoura  female         1\n",
      "875      Najib, Miss. Adele Kiamie \"Jane\"  female         1\n"
     ]
    }
   ],
   "source": [
    "# 4. 나이가 16세 미만이고, 혼자 탑승한(`SibSp == 0` and `Parch == 0`) 승객의 이름과 성별, 생존 여부를 출력\n",
    "\n",
    "alone_child = titanic[(titanic['Age'] < 16) & (titanic['SibSp'] == 0) & (titanic['Parch'] == 0)]\n",
    "print(alone_child[['Name', 'Sex', 'Survived']])"
   ]
  },
  {
   "cell_type": "code",
   "execution_count": 16,
   "metadata": {},
   "outputs": [
    {
     "name": "stdout",
     "output_type": "stream",
     "text": [
      "                                                  Name   Age      Fare\n",
      "27                      Fortune, Mr. Charles Alexander  19.0  263.0000\n",
      "31      Spencer, Mrs. William Augustus (Marie Eugenie)   NaN  146.5208\n",
      "88                          Fortune, Miss. Mabel Helen  23.0  263.0000\n",
      "118                           Baxter, Mr. Quigg Edmond  24.0  247.5208\n",
      "195                               Lurette, Miss. Elise  58.0  146.5208\n",
      "..                                                 ...   ...       ...\n",
      "779  Robert, Mrs. Edward Scott (Elisabeth Walton Mc...  43.0  211.3375\n",
      "802                Carter, Master. William Thornton II  11.0  120.0000\n",
      "820  Hays, Mrs. Charles Melville (Clara Jennings Gr...  52.0   93.5000\n",
      "849       Goldenberg, Mrs. Samuel L (Edwiga Grabowska)   NaN   89.1042\n",
      "856         Wick, Mrs. George Dennick (Mary Hitchcock)  45.0  164.8667\n",
      "\n",
      "[66 rows x 3 columns]\n"
     ]
    }
   ],
   "source": [
    "# 5. 1등급(Pclass == 1) 객실에 탑승한 승객들 중에서, 운임(Fare)이 평균보다 높은 사람들의 이름과 나이, 운임을 출력\n",
    "\n",
    "fc = titanic[titanic['Pclass'] == 1]\n",
    "fc_high_fare = fc[fc['Fare'] > fc['Fare'].mean()]\n",
    "print(fc_high_fare[['Name', 'Age', 'Fare']])"
   ]
  },
  {
   "cell_type": "code",
   "execution_count": 17,
   "metadata": {},
   "outputs": [
    {
     "name": "stdout",
     "output_type": "stream",
     "text": [
      "평균 운임:\n",
      " Pclass\n",
      "1    87.961582\n",
      "2    21.471556\n",
      "3    13.229435\n",
      "Name: Fare, dtype: float64\n",
      "중앙값 운임:\n",
      " Pclass\n",
      "1    69.3000\n",
      "2    15.0458\n",
      "3     8.0500\n",
      "Name: Fare, dtype: float64\n"
     ]
    }
   ],
   "source": [
    "# 6. 나이(Age), 객실 등급(Pclass), 운임(Fare) 값에 결측치가 없는 승객들만 대상으로, 각 등급별 평균 운임과 중앙값 운임을 출력\n",
    "\n",
    "ok = titanic.dropna(subset=['Age', 'Pclass', 'Fare'])\n",
    "print('평균 운임:\\n', ok.groupby('Pclass')['Fare'].mean())\n",
    "print('중앙값 운임:\\n', ok.groupby('Pclass')['Fare'].median())"
   ]
  },
  {
   "cell_type": "code",
   "execution_count": 18,
   "metadata": {},
   "outputs": [
    {
     "name": "stdout",
     "output_type": "stream",
     "text": [
      "Embarked별 평균 나이:\n",
      " Embarked\n",
      "C    30.814769\n",
      "Q    28.089286\n",
      "S    29.445397\n",
      "Name: Age, dtype: float64\n",
      "최다탑승(S) 항구 생존율: 33.70%\n"
     ]
    }
   ],
   "source": [
    "# 7. 승객들의 `Embarked` 별 평균 나이를 계산하고, 가장 많은 승객이 탑승한 항구를 기준으로 생존율을 계산하여 출력\n",
    "\n",
    "emb_mean_age = titanic.groupby('Embarked')['Age'].mean()\n",
    "most_embarked = titanic['Embarked'].value_counts().idxmax()\n",
    "most_embarked_survival = titanic[titanic['Embarked'] == most_embarked]['Survived'].mean()\n",
    "print('Embarked별 평균 나이:\\n', emb_mean_age)\n",
    "print(f\"최다탑승({most_embarked}) 항구 생존율: {most_embarked_survival:.2%}\")"
   ]
  },
  {
   "cell_type": "code",
   "execution_count": 19,
   "metadata": {},
   "outputs": [
    {
     "name": "stdout",
     "output_type": "stream",
     "text": [
      "생존율: 80.70%\n"
     ]
    }
   ],
   "source": [
    "# 8. 승객 중에서 여성(`Sex == 'female'`)이면서 30세 이상인 사람들의 생존율을 계산하여 출력\n",
    "\n",
    "wf = titanic[(titanic['Sex']=='female') & (titanic['Age'] >= 30)]\n",
    "print(f'생존율: {wf[\"Survived\"].mean():.2%}')"
   ]
  },
  {
   "cell_type": "code",
   "execution_count": 20,
   "metadata": {},
   "outputs": [
    {
     "name": "stdout",
     "output_type": "stream",
     "text": [
      "생존율: 34.07%\n"
     ]
    }
   ],
   "source": [
    "# 9. 동반한 형제 또는 배우자 수(`SibSp`)와 부모 또는 자녀 수(`Parch`)의 합이 3 이상인 승객들만을 대상으로, 그들의 생존율을 계산하여 출력\n",
    "\n",
    "big_family = titanic[titanic['SibSp'] + titanic['Parch'] >= 3]\n",
    "print(f'생존율: {big_family[\"Survived\"].mean():.2%}')"
   ]
  },
  {
   "cell_type": "code",
   "execution_count": 21,
   "metadata": {},
   "outputs": [
    {
     "name": "stdout",
     "output_type": "stream",
     "text": [
      "Pclass\n",
      "1    0.664773\n",
      "2    0.812500\n",
      "3    0.500000\n",
      "Name: Survived, dtype: float64\n"
     ]
    }
   ],
   "source": [
    "# 10. `Cabin`(객실 번호) 정보가 있는 승객들만을 대상으로, 그들의 생존율을 객실 등급별로 구분하여 계산하여 출력\n",
    "\n",
    "with_cabin = titanic[titanic['Cabin'].notnull()]\n",
    "print(with_cabin.groupby('Pclass')['Survived'].mean())"
   ]
  }
 ],
 "metadata": {
  "kernelspec": {
   "display_name": "helloworld",
   "language": "python",
   "name": "python3"
  },
  "language_info": {
   "codemirror_mode": {
    "name": "ipython",
    "version": 3
   },
   "file_extension": ".py",
   "mimetype": "text/x-python",
   "name": "python",
   "nbconvert_exporter": "python",
   "pygments_lexer": "ipython3",
   "version": "3.11.14"
  }
 },
 "nbformat": 4,
 "nbformat_minor": 2
}
